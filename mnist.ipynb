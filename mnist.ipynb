{
  "cells": [
    {
      "cell_type": "markdown",
      "metadata": {
        "colab_type": "text",
        "id": "xLOXFOT5Q40E"
      },
      "source": [
        "##### Copyright 2020 The TensorFlow Authors."
      ]
    },
    {
      "cell_type": "code",
      "execution_count": null,
      "metadata": {
        "cellView": "form",
        "colab": {},
        "colab_type": "code",
        "id": "iiQkM5ZgQ8r2"
      },
      "outputs": [],
      "source": [
        "#@title Licensed under the Apache License, Version 2.0 (the \"License\");\n",
        "# you may not use this file except in compliance with the License.\n",
        "# You may obtain a copy of the License at\n",
        "#\n",
        "# https://www.apache.org/licenses/LICENSE-2.0\n",
        "#\n",
        "# Unless required by applicable law or agreed to in writing, software\n",
        "# distributed under the License is distributed on an \"AS IS\" BASIS,\n",
        "# WITHOUT WARRANTIES OR CONDITIONS OF ANY KIND, either express or implied.\n",
        "# See the License for the specific language governing permissions and\n",
        "# limitations under the License."
      ]
    },
    {
      "cell_type": "markdown",
      "metadata": {
        "colab_type": "text",
        "id": "j6331ZSsQGY3"
      },
      "source": [
        "# MNIST classification"
      ]
    },
    {
      "cell_type": "markdown",
      "metadata": {
        "colab_type": "text",
        "id": "i9Jcnb8bQQyd"
      },
      "source": [
        "<table class=\"tfo-notebook-buttons\" align=\"left\">\n",
        "  <td>\n",
        "    <a target=\"_blank\" href=\"https://www.tensorflow.org/quantum/tutorials/mnist\"><img src=\"https://www.tensorflow.org/images/tf_logo_32px.png\" />View on TensorFlow.org</a>\n",
        "  </td>\n",
        "  <td>\n",
        "    <a target=\"_blank\" href=\"https://colab.research.google.com/github/tensorflow/quantum/blob/master/docs/tutorials/mnist.ipynb\"><img src=\"https://www.tensorflow.org/images/colab_logo_32px.png\" />Run in Google Colab</a>\n",
        "  </td>\n",
        "  <td>\n",
        "    <a target=\"_blank\" href=\"https://github.com/tensorflow/quantum/blob/master/docs/tutorials/mnist.ipynb\"><img src=\"https://www.tensorflow.org/images/GitHub-Mark-32px.png\" />View source on GitHub</a>\n",
        "  </td>\n",
        "  <td>\n",
        "    <a href=\"https://storage.googleapis.com/tensorflow_docs/quantum/docs/tutorials/mnist.ipynb\"><img src=\"https://www.tensorflow.org/images/download_logo_32px.png\" />Download notebook</a>\n",
        "  </td>\n",
        "</table>"
      ]
    },
    {
      "cell_type": "markdown",
      "metadata": {
        "colab_type": "text",
        "id": "udLObUVeGfTs"
      },
      "source": [
        "This tutorial builds a quantum neural network (QNN) to classify a simplified version of MNIST, similar to the approach used in <a href=\"https://arxiv.org/pdf/1802.06002.pdf\" class=\"external\">Farhi et al</a>. The performance of the quantum neural network on this classical data problem is compared with a classical neural network."
      ]
    },
    {
      "cell_type": "markdown",
      "metadata": {},
      "source": [
        "## Notes\n",
        "- tensorflow-quantum is abandoned, and only works with python 3.8,3.9 and tensorflow 2.3.0\n",
        "- before installing python version, install bz2 `apt-get install libbz2-dev`\n",
        "- we use pyenv to manage python here, install it, and use `pyenv install 3.8` then select python 3.8 as your runtime in jupyter\n",
        "- you might encounter this error: `undefined symbol: _ZNK10tensorflow8OpKernel11TraceStringERKNS_15OpKernelContextEb` which is discussed [in this github issue](https://github.com/tensorflow/text/issues/385). even efter installing tensorflow2.3.0"
      ]
    },
    {
      "cell_type": "markdown",
      "metadata": {
        "colab_type": "text",
        "id": "X35qHdh5Gzqg"
      },
      "source": [
        "## Setup"
      ]
    },
    {
      "cell_type": "code",
      "execution_count": 1,
      "metadata": {},
      "outputs": [
        {
          "name": "stdout",
          "output_type": "stream",
          "text": [
            "Python 3.8.19\n"
          ]
        },
        {
          "name": "stdout",
          "output_type": "stream",
          "text": [
            "pip 23.0.1 from /home/alireza/.pyenv/versions/3.8.19/lib/python3.8/site-packages/pip (python 3.8)\n"
          ]
        }
      ],
      "source": [
        "!python --version\n",
        "!pip --version"
      ]
    },
    {
      "cell_type": "markdown",
      "metadata": {},
      "source": [
        "Upgrade pip, install tensorflow and tensorflow-quantum using pip3.8"
      ]
    },
    {
      "cell_type": "code",
      "execution_count": 2,
      "metadata": {
        "colab": {},
        "colab_type": "code",
        "id": "TorxE5tnkvb2"
      },
      "outputs": [
        {
          "name": "stdout",
          "output_type": "stream",
          "text": [
            "Collecting tensorflow==2.3.0\n",
            "  Using cached tensorflow-2.3.0-cp38-cp38-manylinux2010_x86_64.whl (320.5 MB)\n",
            "Collecting tensorflow-quantum==0.7.2\n",
            "  Using cached tensorflow_quantum-0.7.2-cp38-cp38-manylinux_2_12_x86_64.manylinux2010_x86_64.whl (10.5 MB)\n",
            "Collecting gast==0.3.3\n",
            "  Using cached gast-0.3.3-py2.py3-none-any.whl (9.7 kB)\n",
            "Collecting numpy<1.19.0,>=1.16.0\n",
            "  Using cached numpy-1.18.5-cp38-cp38-manylinux1_x86_64.whl (20.6 MB)\n",
            "Collecting termcolor>=1.1.0\n",
            "  Using cached termcolor-2.4.0-py3-none-any.whl (7.7 kB)\n",
            "Collecting astunparse==1.6.3\n",
            "  Using cached astunparse-1.6.3-py2.py3-none-any.whl (12 kB)\n",
            "Collecting grpcio>=1.8.6\n",
            "  Using cached grpcio-1.62.2-cp38-cp38-manylinux_2_17_x86_64.manylinux2014_x86_64.whl (5.6 MB)\n",
            "Collecting keras-preprocessing<1.2,>=1.1.1\n",
            "  Using cached Keras_Preprocessing-1.1.2-py2.py3-none-any.whl (42 kB)\n",
            "Collecting scipy==1.4.1\n",
            "  Using cached scipy-1.4.1-cp38-cp38-manylinux1_x86_64.whl (26.0 MB)\n",
            "Collecting absl-py>=0.7.0\n",
            "  Using cached absl_py-2.1.0-py3-none-any.whl (133 kB)\n",
            "Collecting h5py<2.11.0,>=2.10.0\n",
            "  Using cached h5py-2.10.0-cp38-cp38-manylinux1_x86_64.whl (2.9 MB)\n",
            "Collecting tensorboard<3,>=2.3.0\n",
            "  Downloading tensorboard-2.14.0-py3-none-any.whl (5.5 MB)\n",
            "\u001b[2K     \u001b[90m━━━━━━━━━━━━━━━━━━━━━━━━━━━━━━━━━━━━━━━━\u001b[0m \u001b[32m5.5/5.5 MB\u001b[0m \u001b[31m232.8 kB/s\u001b[0m eta \u001b[36m0:00:00\u001b[0m00:01\u001b[0m00:01\u001b[0m\n",
            "\u001b[?25hRequirement already satisfied: six>=1.12.0 in /home/alireza/.pyenv/versions/3.8.19/lib/python3.8/site-packages (from tensorflow==2.3.0) (1.16.0)\n",
            "Collecting tensorflow-estimator<2.4.0,>=2.3.0\n",
            "  Using cached tensorflow_estimator-2.3.0-py2.py3-none-any.whl (459 kB)\n",
            "Collecting google-pasta>=0.1.8\n",
            "  Using cached google_pasta-0.2.0-py3-none-any.whl (57 kB)\n",
            "Collecting wrapt>=1.11.1\n",
            "  Using cached wrapt-1.16.0-cp38-cp38-manylinux_2_5_x86_64.manylinux1_x86_64.manylinux_2_17_x86_64.manylinux2014_x86_64.whl (83 kB)\n",
            "Collecting opt-einsum>=2.3.2\n",
            "  Using cached opt_einsum-3.3.0-py3-none-any.whl (65 kB)\n",
            "Collecting protobuf>=3.9.2\n",
            "  Downloading protobuf-5.26.1-cp37-abi3-manylinux2014_x86_64.whl (302 kB)\n",
            "\u001b[2K     \u001b[90m━━━━━━━━━━━━━━━━━━━━━━━━━━━━━━━━━━━━━\u001b[0m \u001b[32m302.8/302.8 kB\u001b[0m \u001b[31m198.8 kB/s\u001b[0m eta \u001b[36m0:00:00\u001b[0m00:01\u001b[0m00:01\u001b[0m\n",
            "\u001b[?25hRequirement already satisfied: wheel>=0.26 in /home/alireza/.pyenv/versions/3.8.19/lib/python3.8/site-packages (from tensorflow==2.3.0) (0.43.0)\n",
            "  Using cached protobuf-3.17.3-cp38-cp38-manylinux_2_5_x86_64.manylinux1_x86_64.whl (1.0 MB)\n",
            "Collecting cirq-core==0.13.1\n",
            "  Using cached cirq_core-0.13.1-py3-none-any.whl (1.6 MB)\n",
            "Collecting sympy==1.8\n",
            "  Using cached sympy-1.8-py3-none-any.whl (6.1 MB)\n",
            "Collecting google-api-core==1.21.0\n",
            "  Using cached google_api_core-1.21.0-py2.py3-none-any.whl (90 kB)\n",
            "Collecting google-auth==1.18.0\n",
            "  Using cached google_auth-1.18.0-py2.py3-none-any.whl (90 kB)\n",
            "Collecting cirq-google>=0.13.1\n",
            "  Using cached cirq_google-1.1.0-py3-none-any.whl (577 kB)\n",
            "Collecting googleapis-common-protos==1.52.0\n",
            "  Using cached googleapis_common_protos-1.52.0-py2.py3-none-any.whl (100 kB)\n",
            "Collecting matplotlib~=3.0\n",
            "  Using cached matplotlib-3.7.5-cp38-cp38-manylinux_2_12_x86_64.manylinux2010_x86_64.whl (9.2 MB)\n",
            "Collecting sortedcontainers~=2.0\n",
            "  Using cached sortedcontainers-2.4.0-py2.py3-none-any.whl (29 kB)\n",
            "Collecting networkx~=2.4\n",
            "  Using cached networkx-2.8.8-py3-none-any.whl (2.0 MB)\n",
            "Requirement already satisfied: typing-extensions in /home/alireza/.pyenv/versions/3.8.19/lib/python3.8/site-packages (from cirq-core==0.13.1->tensorflow-quantum==0.7.2) (4.11.0)\n",
            "Collecting tqdm\n",
            "  Using cached tqdm-4.66.2-py3-none-any.whl (78 kB)\n",
            "Collecting pandas\n",
            "  Using cached pandas-2.0.3-cp38-cp38-manylinux_2_17_x86_64.manylinux2014_x86_64.whl (12.4 MB)\n",
            "Collecting duet~=0.2.0\n",
            "  Using cached duet-0.2.8-py3-none-any.whl (29 kB)\n",
            "Collecting requests<3.0.0dev,>=2.18.0\n",
            "  Using cached requests-2.31.0-py3-none-any.whl (62 kB)\n",
            "Collecting pytz\n",
            "  Using cached pytz-2024.1-py2.py3-none-any.whl (505 kB)\n",
            "Requirement already satisfied: setuptools>=34.0.0 in /home/alireza/.pyenv/versions/3.8.19/lib/python3.8/site-packages (from google-api-core==1.21.0->tensorflow-quantum==0.7.2) (56.0.0)\n",
            "Collecting pyasn1-modules>=0.2.1\n",
            "  Using cached pyasn1_modules-0.4.0-py3-none-any.whl (181 kB)\n",
            "Collecting rsa<5,>=3.1.4\n",
            "  Using cached rsa-4.9-py3-none-any.whl (34 kB)\n",
            "Collecting cachetools<5.0,>=2.0.0\n",
            "  Using cached cachetools-4.2.4-py3-none-any.whl (10 kB)\n",
            "Collecting mpmath>=0.19\n",
            "  Using cached mpmath-1.3.0-py3-none-any.whl (536 kB)\n",
            "Collecting cirq-google>=0.13.1\n",
            "  Using cached cirq_google-1.0.0-py3-none-any.whl (576 kB)\n",
            "  Using cached cirq_google-0.15.0-py3-none-any.whl (641 kB)\n",
            "Collecting proto-plus>=1.20.0\n",
            "  Using cached proto_plus-1.23.0-py3-none-any.whl (48 kB)\n",
            "Collecting cirq-google>=0.13.1\n",
            "  Using cached cirq_google-0.14.1-py3-none-any.whl (541 kB)\n",
            "Collecting google-api-core[grpc]<2.0.0dev,>=1.14.0\n",
            "  Using cached google_api_core-1.34.1-py3-none-any.whl (120 kB)\n",
            "Collecting cirq-google>=0.13.1\n",
            "  Using cached cirq_google-0.14.0-py3-none-any.whl (541 kB)\n",
            "  Using cached cirq_google-0.13.1-py3-none-any.whl (437 kB)\n",
            "Collecting werkzeug>=1.0.1\n",
            "  Using cached werkzeug-3.0.2-py3-none-any.whl (226 kB)\n",
            "Collecting google-auth-oauthlib<1.1,>=0.5\n",
            "  Downloading google_auth_oauthlib-1.0.0-py2.py3-none-any.whl (18 kB)\n",
            "Collecting tensorboard-data-server<0.8.0,>=0.7.0\n",
            "  Downloading tensorboard_data_server-0.7.2-py3-none-manylinux_2_31_x86_64.whl (6.6 MB)\n",
            "\u001b[2K     \u001b[90m━━━━━━━━━━━━━━━━━━━━━━━━━━━━━━━━━━━━━━━━\u001b[0m \u001b[32m6.6/6.6 MB\u001b[0m \u001b[31m790.5 kB/s\u001b[0m eta \u001b[36m0:00:00\u001b[0m00:01\u001b[0m00:01\u001b[0m\n",
            "\u001b[?25hCollecting tensorboard<3,>=2.3.0\n",
            "  Downloading tensorboard-2.13.0-py3-none-any.whl (5.6 MB)\n",
            "\u001b[2K     \u001b[90m━━━━━━━━━━━━━━━━━━━━━━━━━━━━━━━━━━━━━━━━\u001b[0m \u001b[32m5.6/5.6 MB\u001b[0m \u001b[31m209.5 kB/s\u001b[0m eta \u001b[36m0:00:00\u001b[0m00:01\u001b[0m00:01\u001b[0m\n",
            "\u001b[?25h  Downloading tensorboard-2.12.3-py3-none-any.whl (5.6 MB)\n",
            "\u001b[2K     \u001b[90m━━━━━━━━━━━━━━━━━━━━━━━━━━━━━━━━━━━━━━━━\u001b[0m \u001b[32m5.6/5.6 MB\u001b[0m \u001b[31m232.8 kB/s\u001b[0m eta \u001b[36m0:00:00\u001b[0m00:01\u001b[0m00:01\u001b[0m\n",
            "\u001b[?25h  Downloading tensorboard-2.12.2-py3-none-any.whl (5.6 MB)\n",
            "\u001b[2K     \u001b[90m━━━━━━━━━━━━━━━━━━━━━━━━━━━━━━━━━━━━━━━━\u001b[0m \u001b[32m5.6/5.6 MB\u001b[0m \u001b[31m231.3 kB/s\u001b[0m eta \u001b[36m0:00:00\u001b[0m00:01\u001b[0m00:01\u001b[0m\n",
            "\u001b[?25h  Downloading tensorboard-2.12.1-py3-none-any.whl (5.6 MB)\n",
            "\u001b[2K     \u001b[90m━━━━━━━━━━━━━━━━━━━━━━━━━━━━━━━━━━━━━━━━\u001b[0m \u001b[32m5.6/5.6 MB\u001b[0m \u001b[31m190.5 kB/s\u001b[0m eta \u001b[36m0:00:00\u001b[0m00:01\u001b[0m00:01\u001b[0m\n",
            "\u001b[?25h  Downloading tensorboard-2.12.0-py3-none-any.whl (5.6 MB)\n",
            "\u001b[2K     \u001b[90m━━━━━━━━━━━━━━━━━━━━━━━━━━━━━━━━━━━━━━━━\u001b[0m \u001b[32m5.6/5.6 MB\u001b[0m \u001b[31m159.1 kB/s\u001b[0m eta \u001b[36m0:00:00\u001b[0m00:01\u001b[0m00:01\u001b[0m\n",
            "\u001b[?25hCollecting google-auth-oauthlib<0.5,>=0.4.1\n",
            "  Using cached google_auth_oauthlib-0.4.6-py2.py3-none-any.whl (18 kB)\n",
            "Collecting tensorboard<3,>=2.3.0\n",
            "  Using cached tensorboard-2.11.2-py3-none-any.whl (6.0 MB)\n",
            "Collecting tensorboard-data-server<0.7.0,>=0.6.0\n",
            "  Using cached tensorboard_data_server-0.6.1-py3-none-manylinux2010_x86_64.whl (4.9 MB)\n",
            "Collecting markdown>=2.6.8\n",
            "  Using cached Markdown-3.6-py3-none-any.whl (105 kB)\n",
            "Collecting tensorboard-plugin-wit>=1.6.0\n",
            "  Using cached tensorboard_plugin_wit-1.8.1-py3-none-any.whl (781 kB)\n",
            "Collecting google-api-core[grpc]<2.0.0dev,>=1.14.0\n",
            "  Using cached google_api_core-1.34.0-py3-none-any.whl (120 kB)\n",
            "  Using cached google_api_core-1.33.2-py3-none-any.whl (115 kB)\n",
            "  Using cached google_api_core-1.33.1-py3-none-any.whl (115 kB)\n",
            "  Using cached google_api_core-1.33.0-py3-none-any.whl (115 kB)\n",
            "  Using cached google_api_core-1.32.0-py2.py3-none-any.whl (93 kB)\n",
            "  Using cached google_api_core-1.31.6-py2.py3-none-any.whl (93 kB)\n",
            "  Using cached google_api_core-1.31.5-py2.py3-none-any.whl (93 kB)\n",
            "  Using cached google_api_core-1.31.4-py2.py3-none-any.whl (93 kB)\n",
            "  Using cached google_api_core-1.31.3-py2.py3-none-any.whl (93 kB)\n",
            "  Using cached google_api_core-1.31.2-py2.py3-none-any.whl (93 kB)\n",
            "  Using cached google_api_core-1.31.1-py2.py3-none-any.whl (93 kB)\n",
            "  Using cached google_api_core-1.31.0-py2.py3-none-any.whl (93 kB)\n",
            "  Using cached google_api_core-1.30.0-py2.py3-none-any.whl (93 kB)\n",
            "  Using cached google_api_core-1.29.0-py2.py3-none-any.whl (93 kB)\n",
            "  Using cached google_api_core-1.28.0-py2.py3-none-any.whl (92 kB)\n",
            "  Using cached google_api_core-1.27.0-py2.py3-none-any.whl (93 kB)\n",
            "  Using cached google_api_core-1.26.3-py2.py3-none-any.whl (93 kB)\n",
            "  Using cached google_api_core-1.26.2-py2.py3-none-any.whl (93 kB)\n",
            "  Using cached google_api_core-1.26.1-py2.py3-none-any.whl (92 kB)\n",
            "  Using cached google_api_core-1.26.0-py2.py3-none-any.whl (92 kB)\n",
            "  Using cached google_api_core-1.25.1-py2.py3-none-any.whl (92 kB)\n",
            "  Using cached google_api_core-1.25.0-py2.py3-none-any.whl (92 kB)\n",
            "  Using cached google_api_core-1.24.1-py2.py3-none-any.whl (92 kB)\n",
            "  Using cached google_api_core-1.24.0-py2.py3-none-any.whl (91 kB)\n",
            "  Using cached google_api_core-1.23.0-py2.py3-none-any.whl (91 kB)\n",
            "  Using cached google_api_core-1.22.4-py2.py3-none-any.whl (91 kB)\n",
            "  Using cached google_api_core-1.22.3-py2.py3-none-any.whl (91 kB)\n",
            "  Using cached google_api_core-1.22.2-py2.py3-none-any.whl (91 kB)\n",
            "  Using cached google_api_core-1.22.1-py2.py3-none-any.whl (91 kB)\n",
            "  Using cached google_api_core-1.22.0-py2.py3-none-any.whl (91 kB)\n",
            "Collecting requests-oauthlib>=0.7.0\n",
            "  Using cached requests_oauthlib-2.0.0-py2.py3-none-any.whl (24 kB)\n",
            "Requirement already satisfied: importlib-metadata>=4.4 in /home/alireza/.pyenv/versions/3.8.19/lib/python3.8/site-packages (from markdown>=2.6.8->tensorboard<3,>=2.3.0->tensorflow==2.3.0) (7.1.0)\n",
            "Collecting contourpy>=1.0.1\n",
            "  Using cached contourpy-1.1.1-cp38-cp38-manylinux_2_17_x86_64.manylinux2014_x86_64.whl (301 kB)\n",
            "Collecting cycler>=0.10\n",
            "  Using cached cycler-0.12.1-py3-none-any.whl (8.3 kB)\n",
            "Collecting pillow>=6.2.0\n",
            "  Using cached pillow-10.3.0-cp38-cp38-manylinux_2_28_x86_64.whl (4.5 MB)\n",
            "Collecting fonttools>=4.22.0\n",
            "  Using cached fonttools-4.51.0-cp38-cp38-manylinux_2_17_x86_64.manylinux2014_x86_64.whl (4.7 MB)\n",
            "Collecting importlib-resources>=3.2.0\n",
            "  Using cached importlib_resources-6.4.0-py3-none-any.whl (38 kB)\n",
            "Collecting pyparsing>=2.3.1\n",
            "  Using cached pyparsing-3.1.2-py3-none-any.whl (103 kB)\n",
            "Requirement already satisfied: packaging>=20.0 in /home/alireza/.pyenv/versions/3.8.19/lib/python3.8/site-packages (from matplotlib~=3.0->cirq-core==0.13.1->tensorflow-quantum==0.7.2) (24.0)\n",
            "Requirement already satisfied: python-dateutil>=2.7 in /home/alireza/.pyenv/versions/3.8.19/lib/python3.8/site-packages (from matplotlib~=3.0->cirq-core==0.13.1->tensorflow-quantum==0.7.2) (2.9.0.post0)\n",
            "Collecting kiwisolver>=1.0.1\n",
            "  Using cached kiwisolver-1.4.5-cp38-cp38-manylinux_2_5_x86_64.manylinux1_x86_64.whl (1.2 MB)\n",
            "Collecting matplotlib~=3.0\n",
            "  Using cached matplotlib-3.7.4-cp38-cp38-manylinux_2_12_x86_64.manylinux2010_x86_64.whl (9.2 MB)\n",
            "  Using cached matplotlib-3.7.3-cp38-cp38-manylinux_2_12_x86_64.manylinux2010_x86_64.whl (9.2 MB)\n",
            "  Using cached matplotlib-3.7.2-cp38-cp38-manylinux_2_12_x86_64.manylinux2010_x86_64.whl (9.2 MB)\n",
            "  Using cached matplotlib-3.7.1-cp38-cp38-manylinux_2_12_x86_64.manylinux2010_x86_64.whl (9.2 MB)\n",
            "  Using cached matplotlib-3.7.0-cp38-cp38-manylinux_2_12_x86_64.manylinux2010_x86_64.whl (9.2 MB)\n",
            "  Using cached matplotlib-3.6.3-cp38-cp38-manylinux_2_12_x86_64.manylinux2010_x86_64.whl (9.4 MB)\n",
            "  Using cached matplotlib-3.6.2-cp38-cp38-manylinux_2_12_x86_64.manylinux2010_x86_64.whl (9.4 MB)\n",
            "  Using cached matplotlib-3.6.1-cp38-cp38-manylinux_2_12_x86_64.manylinux2010_x86_64.whl (9.4 MB)\n",
            "  Using cached matplotlib-3.6.0-cp38-cp38-manylinux_2_12_x86_64.manylinux2010_x86_64.whl (9.4 MB)\n",
            "  Using cached matplotlib-3.5.3-cp38-cp38-manylinux_2_5_x86_64.manylinux1_x86_64.whl (11.3 MB)\n",
            "Collecting pyasn1<0.7.0,>=0.4.6\n",
            "  Using cached pyasn1-0.6.0-py2.py3-none-any.whl (85 kB)\n",
            "Collecting urllib3<3,>=1.21.1\n",
            "  Using cached urllib3-2.2.1-py3-none-any.whl (121 kB)\n",
            "Collecting charset-normalizer<4,>=2\n",
            "  Using cached charset_normalizer-3.3.2-cp38-cp38-manylinux_2_17_x86_64.manylinux2014_x86_64.whl (141 kB)\n",
            "Collecting certifi>=2017.4.17\n",
            "  Using cached certifi-2024.2.2-py3-none-any.whl (163 kB)\n",
            "Collecting idna<4,>=2.5\n",
            "  Using cached idna-3.7-py3-none-any.whl (66 kB)\n",
            "Collecting MarkupSafe>=2.1.1\n",
            "  Using cached MarkupSafe-2.1.5-cp38-cp38-manylinux_2_17_x86_64.manylinux2014_x86_64.whl (26 kB)\n",
            "Collecting tzdata>=2022.1\n",
            "  Using cached tzdata-2024.1-py2.py3-none-any.whl (345 kB)\n",
            "Collecting pandas\n",
            "  Using cached pandas-2.0.2-cp38-cp38-manylinux_2_17_x86_64.manylinux2014_x86_64.whl (12.3 MB)\n",
            "  Using cached pandas-2.0.1-cp38-cp38-manylinux_2_17_x86_64.manylinux2014_x86_64.whl (12.3 MB)\n",
            "  Using cached pandas-2.0.0-cp38-cp38-manylinux_2_17_x86_64.manylinux2014_x86_64.whl (12.3 MB)\n",
            "  Using cached pandas-1.5.3-cp38-cp38-manylinux_2_17_x86_64.manylinux2014_x86_64.whl (12.2 MB)\n",
            "  Using cached pandas-1.5.2-cp38-cp38-manylinux_2_17_x86_64.manylinux2014_x86_64.whl (12.2 MB)\n",
            "  Using cached pandas-1.5.1-cp38-cp38-manylinux_2_17_x86_64.manylinux2014_x86_64.whl (12.2 MB)\n",
            "  Using cached pandas-1.5.0-cp38-cp38-manylinux_2_17_x86_64.manylinux2014_x86_64.whl (12.2 MB)\n",
            "  Using cached pandas-1.4.4-cp38-cp38-manylinux_2_17_x86_64.manylinux2014_x86_64.whl (11.7 MB)\n",
            "Requirement already satisfied: zipp>=0.5 in /home/alireza/.pyenv/versions/3.8.19/lib/python3.8/site-packages (from importlib-metadata>=4.4->markdown>=2.6.8->tensorboard<3,>=2.3.0->tensorflow==2.3.0) (3.18.1)\n",
            "Collecting oauthlib>=3.0.0\n",
            "  Using cached oauthlib-3.2.2-py3-none-any.whl (151 kB)\n",
            "Installing collected packages: tensorflow-estimator, tensorboard-plugin-wit, sortedcontainers, pytz, mpmath, wrapt, urllib3, tqdm, termcolor, tensorboard-data-server, sympy, pyparsing, pyasn1, protobuf, pillow, oauthlib, numpy, networkx, MarkupSafe, kiwisolver, idna, grpcio, google-pasta, gast, fonttools, duet, cycler, charset-normalizer, certifi, cachetools, astunparse, absl-py, werkzeug, scipy, rsa, requests, pyasn1-modules, pandas, opt-einsum, matplotlib, markdown, keras-preprocessing, h5py, googleapis-common-protos, requests-oauthlib, google-auth, cirq-core, google-auth-oauthlib, google-api-core, tensorboard, tensorflow, cirq-google, tensorflow-quantum\n",
            "Successfully installed MarkupSafe-2.1.5 absl-py-2.1.0 astunparse-1.6.3 cachetools-4.2.4 certifi-2024.2.2 charset-normalizer-3.3.2 cirq-core-0.13.1 cirq-google-0.13.1 cycler-0.12.1 duet-0.2.8 fonttools-4.51.0 gast-0.3.3 google-api-core-1.21.0 google-auth-1.18.0 google-auth-oauthlib-0.4.6 google-pasta-0.2.0 googleapis-common-protos-1.52.0 grpcio-1.62.2 h5py-2.10.0 idna-3.7 keras-preprocessing-1.1.2 kiwisolver-1.4.5 markdown-3.6 matplotlib-3.5.3 mpmath-1.3.0 networkx-2.8.8 numpy-1.18.5 oauthlib-3.2.2 opt-einsum-3.3.0 pandas-1.4.4 pillow-10.3.0 protobuf-3.17.3 pyasn1-0.6.0 pyasn1-modules-0.4.0 pyparsing-3.1.2 pytz-2024.1 requests-2.31.0 requests-oauthlib-2.0.0 rsa-4.9 scipy-1.4.1 sortedcontainers-2.4.0 sympy-1.8 tensorboard-2.11.2 tensorboard-data-server-0.6.1 tensorboard-plugin-wit-1.8.1 tensorflow-2.3.0 tensorflow-estimator-2.3.0 tensorflow-quantum-0.7.2 termcolor-2.4.0 tqdm-4.66.2 urllib3-2.2.1 werkzeug-3.0.2 wrapt-1.16.0\n",
            "\n",
            "\u001b[1m[\u001b[0m\u001b[34;49mnotice\u001b[0m\u001b[1;39;49m]\u001b[0m\u001b[39;49m A new release of pip is available: \u001b[0m\u001b[31;49m23.0.1\u001b[0m\u001b[39;49m -> \u001b[0m\u001b[32;49m24.0\u001b[0m\n",
            "\u001b[1m[\u001b[0m\u001b[34;49mnotice\u001b[0m\u001b[1;39;49m]\u001b[0m\u001b[39;49m To update, run: \u001b[0m\u001b[32;49mpip install --upgrade pip\u001b[0m\n"
          ]
        }
      ],
      "source": [
        "# !pip uninstall -y tensorflow tensorflow-quantum\n",
        "!pip install -U tensorflow==2.3.0 tensorflow-quantum==0.7.2"
      ]
    },
    {
      "cell_type": "markdown",
      "metadata": {},
      "source": [
        "List all installed packages to make sure tensorflow and tensorflow-quantum are installed"
      ]
    },
    {
      "cell_type": "code",
      "execution_count": 3,
      "metadata": {},
      "outputs": [
        {
          "name": "stdout",
          "output_type": "stream",
          "text": [
            "Package                  Version\n",
            "------------------------ -----------\n",
            "absl-py                  2.1.0\n",
            "asttokens                2.4.1\n",
            "astunparse               1.6.3\n",
            "backcall                 0.2.0\n",
            "cachetools               4.2.4\n",
            "certifi                  2024.2.2\n",
            "charset-normalizer       3.3.2\n",
            "cirq-core                0.13.1\n",
            "cirq-google              0.13.1\n",
            "comm                     0.2.2\n",
            "cycler                   0.12.1\n",
            "debugpy                  1.8.1\n",
            "decorator                5.1.1\n",
            "duet                     0.2.8\n",
            "executing                2.0.1\n",
            "fonttools                4.51.0\n",
            "gast                     0.3.3\n",
            "google-api-core          1.21.0\n",
            "google-auth              1.18.0\n",
            "google-auth-oauthlib     0.4.6\n",
            "google-pasta             0.2.0\n",
            "googleapis-common-protos 1.52.0\n",
            "grpcio                   1.62.2\n",
            "h5py                     2.10.0\n",
            "idna                     3.7\n",
            "importlib_metadata       7.1.0\n",
            "ipykernel                6.29.4\n",
            "ipython                  8.12.3\n",
            "jedi                     0.19.1\n",
            "jupyter_client           8.6.1\n",
            "jupyter_core             5.7.2\n",
            "Keras-Preprocessing      1.1.2\n",
            "kiwisolver               1.4.5\n",
            "Markdown                 3.6\n",
            "MarkupSafe               2.1.5\n",
            "matplotlib               3.5.3\n",
            "matplotlib-inline        0.1.7\n",
            "mpmath                   1.3.0\n",
            "nest-asyncio             1.6.0\n",
            "networkx                 2.8.8\n",
            "numpy                    1.18.5\n",
            "oauthlib                 3.2.2\n",
            "opt-einsum               3.3.0\n",
            "packaging                24.0\n",
            "pandas                   1.4.4\n",
            "parso                    0.8.4\n",
            "pexpect                  4.9.0\n",
            "pickleshare              0.7.5\n",
            "pillow                   10.3.0\n",
            "pip                      23.0.1\n",
            "platformdirs             4.2.1\n",
            "prompt-toolkit           3.0.43\n",
            "protobuf                 3.17.3\n",
            "psutil                   5.9.8\n",
            "ptyprocess               0.7.0\n",
            "pure-eval                0.2.2\n",
            "pyasn1                   0.6.0\n",
            "pyasn1_modules           0.4.0\n",
            "Pygments                 2.17.2\n",
            "pyparsing                3.1.2\n",
            "python-dateutil          2.9.0.post0\n",
            "pytz                     2024.1\n",
            "pyzmq                    26.0.2\n",
            "requests                 2.31.0\n",
            "requests-oauthlib        2.0.0\n",
            "rsa                      4.9\n",
            "scipy                    1.4.1\n",
            "setuptools               56.0.0\n",
            "six                      1.16.0\n",
            "sortedcontainers         2.4.0\n",
            "stack-data               0.6.3\n",
            "sympy                    1.8\n",
            "tensorboard              2.11.2\n",
            "tensorboard-data-server  0.6.1\n",
            "tensorboard-plugin-wit   1.8.1\n",
            "tensorflow               2.3.0\n",
            "tensorflow-estimator     2.3.0\n",
            "tensorflow-quantum       0.7.2\n",
            "termcolor                2.4.0\n",
            "tornado                  6.4\n",
            "tqdm                     4.66.2\n",
            "traitlets                5.14.3\n",
            "typing_extensions        4.11.0\n",
            "urllib3                  2.2.1\n",
            "wcwidth                  0.2.13\n",
            "Werkzeug                 3.0.2\n",
            "wheel                    0.43.0\n",
            "wrapt                    1.16.0\n",
            "zipp                     3.18.1\n",
            "\n",
            "\u001b[1m[\u001b[0m\u001b[34;49mnotice\u001b[0m\u001b[1;39;49m]\u001b[0m\u001b[39;49m A new release of pip is available: \u001b[0m\u001b[31;49m23.0.1\u001b[0m\u001b[39;49m -> \u001b[0m\u001b[32;49m24.0\u001b[0m\n",
            "\u001b[1m[\u001b[0m\u001b[34;49mnotice\u001b[0m\u001b[1;39;49m]\u001b[0m\u001b[39;49m To update, run: \u001b[0m\u001b[32;49mpip install --upgrade pip\u001b[0m\n"
          ]
        }
      ],
      "source": [
        "!pip list"
      ]
    },
    {
      "cell_type": "code",
      "execution_count": 4,
      "metadata": {
        "colab": {},
        "colab_type": "code",
        "id": "4Ql5PW-ACO0J"
      },
      "outputs": [
        {
          "data": {
            "text/plain": [
              "<module 'pkg_resources' from '/home/alireza/.pyenv/versions/3.8.19/lib/python3.8/site-packages/pkg_resources/__init__.py'>"
            ]
          },
          "execution_count": 4,
          "metadata": {},
          "output_type": "execute_result"
        }
      ],
      "source": [
        "# Update package resources to account for version changes.\n",
        "import importlib, pkg_resources\n",
        "importlib.reload(pkg_resources)"
      ]
    },
    {
      "cell_type": "markdown",
      "metadata": {
        "colab_type": "text",
        "id": "hdgMMZEBGqyl"
      },
      "source": [
        "Now import TensorFlow and the module dependencies:"
      ]
    },
    {
      "cell_type": "code",
      "execution_count": 5,
      "metadata": {
        "colab": {},
        "colab_type": "code",
        "id": "enZ300Bflq80"
      },
      "outputs": [
        {
          "name": "stderr",
          "output_type": "stream",
          "text": [
            "2024-04-29 22:54:03.748415: W tensorflow/stream_executor/platform/default/dso_loader.cc:59] Could not load dynamic library 'libcudart.so.10.1'; dlerror: libcudart.so.10.1: cannot open shared object file: No such file or directory\n",
            "2024-04-29 22:54:03.748436: I tensorflow/stream_executor/cuda/cudart_stub.cc:29] Ignore above cudart dlerror if you do not have a GPU set up on your machine.\n"
          ]
        },
        {
          "ename": "NotFoundError",
          "evalue": "/home/alireza/.pyenv/versions/3.8.19/lib/python3.8/site-packages/tensorflow_quantum/core/ops/_tfq_simulate_ops.so: undefined symbol: _ZNK10tensorflow8OpKernel11TraceStringERKNS_15OpKernelContextEb",
          "output_type": "error",
          "traceback": [
            "\u001b[0;31m---------------------------------------------------------------------------\u001b[0m",
            "\u001b[0;31mNotFoundError\u001b[0m                             Traceback (most recent call last)",
            "File \u001b[0;32m~/.pyenv/versions/3.8.19/lib/python3.8/site-packages/tensorflow_quantum/core/ops/load_module.py:42\u001b[0m, in \u001b[0;36mload_module\u001b[0;34m(name)\u001b[0m\n\u001b[1;32m     41\u001b[0m     path \u001b[39m=\u001b[39m resource_loader\u001b[39m.\u001b[39mget_path_to_datafile(name)\n\u001b[0;32m---> 42\u001b[0m     \u001b[39mreturn\u001b[39;00m load_library\u001b[39m.\u001b[39;49mload_op_library(path)\n\u001b[1;32m     43\u001b[0m \u001b[39mexcept\u001b[39;00m:\n",
            "File \u001b[0;32m~/.pyenv/versions/3.8.19/lib/python3.8/site-packages/tensorflow/python/framework/load_library.py:58\u001b[0m, in \u001b[0;36mload_op_library\u001b[0;34m(library_filename)\u001b[0m\n\u001b[1;32m     37\u001b[0m \u001b[39m\u001b[39m\u001b[39m\"\"\"Loads a TensorFlow plugin, containing custom ops and kernels.\u001b[39;00m\n\u001b[1;32m     38\u001b[0m \n\u001b[1;32m     39\u001b[0m \u001b[39mPass \"library_filename\" to a platform-specific mechanism for dynamically\u001b[39;00m\n\u001b[0;32m   (...)\u001b[0m\n\u001b[1;32m     56\u001b[0m \u001b[39m  RuntimeError: when unable to load the library or get the python wrappers.\u001b[39;00m\n\u001b[1;32m     57\u001b[0m \u001b[39m\"\"\"\u001b[39;00m\n\u001b[0;32m---> 58\u001b[0m lib_handle \u001b[39m=\u001b[39m py_tf\u001b[39m.\u001b[39;49mTF_LoadLibrary(library_filename)\n\u001b[1;32m     59\u001b[0m \u001b[39mtry\u001b[39;00m:\n",
            "\u001b[0;31mNotFoundError\u001b[0m: /home/alireza/.pyenv/versions/3.8.19/lib/python3.8/site-packages/tensorflow_quantum/core/ops/_tfq_simulate_ops.so: undefined symbol: _ZNK10tensorflow8OpKernel11TraceStringERKNS_15OpKernelContextEb",
            "\nDuring handling of the above exception, another exception occurred:\n",
            "\u001b[0;31mNotFoundError\u001b[0m                             Traceback (most recent call last)",
            "\u001b[1;32m/mnt/L/work/Learning/university/qnn-mnist/mnist.ipynb Cell 15\u001b[0m line \u001b[0;36m2\n\u001b[1;32m      <a href='vscode-notebook-cell:/mnt/L/work/Learning/university/qnn-mnist/mnist.ipynb#X20sZmlsZQ%3D%3D?line=0'>1</a>\u001b[0m \u001b[39mimport\u001b[39;00m \u001b[39mtensorflow\u001b[39;00m \u001b[39mas\u001b[39;00m \u001b[39mtf\u001b[39;00m\n\u001b[0;32m----> <a href='vscode-notebook-cell:/mnt/L/work/Learning/university/qnn-mnist/mnist.ipynb#X20sZmlsZQ%3D%3D?line=1'>2</a>\u001b[0m \u001b[39mimport\u001b[39;00m \u001b[39mtensorflow_quantum\u001b[39;00m \u001b[39mas\u001b[39;00m \u001b[39mtfq\u001b[39;00m\n\u001b[1;32m      <a href='vscode-notebook-cell:/mnt/L/work/Learning/university/qnn-mnist/mnist.ipynb#X20sZmlsZQ%3D%3D?line=3'>4</a>\u001b[0m \u001b[39mimport\u001b[39;00m \u001b[39mcirq\u001b[39;00m\n\u001b[1;32m      <a href='vscode-notebook-cell:/mnt/L/work/Learning/university/qnn-mnist/mnist.ipynb#X20sZmlsZQ%3D%3D?line=4'>5</a>\u001b[0m \u001b[39mimport\u001b[39;00m \u001b[39msympy\u001b[39;00m\n",
            "File \u001b[0;32m~/.pyenv/versions/3.8.19/lib/python3.8/site-packages/tensorflow_quantum/__init__.py:18\u001b[0m\n\u001b[1;32m     15\u001b[0m \u001b[39m\"\"\"Module functions for tensorflow_quantum.*\"\"\"\u001b[39;00m\n\u001b[1;32m     17\u001b[0m \u001b[39m# Import basic ops and op getters.\u001b[39;00m\n\u001b[0;32m---> 18\u001b[0m \u001b[39mfrom\u001b[39;00m \u001b[39mtensorflow_quantum\u001b[39;00m\u001b[39m.\u001b[39;00m\u001b[39mcore\u001b[39;00m \u001b[39mimport\u001b[39;00m (append_circuit, get_expectation_op,\n\u001b[1;32m     19\u001b[0m                                      get_sampled_expectation_op,\n\u001b[1;32m     20\u001b[0m                                      get_sampling_op, get_state_op,\n\u001b[1;32m     21\u001b[0m                                      get_unitary_op, padded_to_ragged,\n\u001b[1;32m     22\u001b[0m                                      padded_to_ragged2d, resolve_parameters)\n\u001b[1;32m     24\u001b[0m \u001b[39m# Import math ops.\u001b[39;00m\n\u001b[1;32m     25\u001b[0m \u001b[39mfrom\u001b[39;00m \u001b[39mtensorflow_quantum\u001b[39;00m\u001b[39m.\u001b[39;00m\u001b[39mcore\u001b[39;00m \u001b[39mimport\u001b[39;00m math_ops \u001b[39mas\u001b[39;00m math\n",
            "File \u001b[0;32m~/.pyenv/versions/3.8.19/lib/python3.8/site-packages/tensorflow_quantum/core/__init__.py:17\u001b[0m\n\u001b[1;32m     15\u001b[0m \u001b[39m\"\"\"Imports to tensorflow_quantum.core.* level.\"\"\"\u001b[39;00m\n\u001b[1;32m     16\u001b[0m \u001b[39m# Import getters for constructing ops.\u001b[39;00m\n\u001b[0;32m---> 17\u001b[0m \u001b[39mfrom\u001b[39;00m \u001b[39mtensorflow_quantum\u001b[39;00m\u001b[39m.\u001b[39;00m\u001b[39mcore\u001b[39;00m\u001b[39m.\u001b[39;00m\u001b[39mops\u001b[39;00m \u001b[39mimport\u001b[39;00m (get_expectation_op,\n\u001b[1;32m     18\u001b[0m                                          get_sampled_expectation_op,\n\u001b[1;32m     19\u001b[0m                                          get_sampling_op, get_state_op,\n\u001b[1;32m     20\u001b[0m                                          get_unitary_op)\n\u001b[1;32m     21\u001b[0m \u001b[39m# Import regular ops.\u001b[39;00m\n\u001b[1;32m     22\u001b[0m \u001b[39mfrom\u001b[39;00m \u001b[39mtensorflow_quantum\u001b[39;00m\u001b[39m.\u001b[39;00m\u001b[39mcore\u001b[39;00m\u001b[39m.\u001b[39;00m\u001b[39mops\u001b[39;00m \u001b[39mimport\u001b[39;00m (append_circuit, padded_to_ragged,\n\u001b[1;32m     23\u001b[0m                                          padded_to_ragged2d, resolve_parameters)\n",
            "File \u001b[0;32m~/.pyenv/versions/3.8.19/lib/python3.8/site-packages/tensorflow_quantum/core/ops/__init__.py:18\u001b[0m\n\u001b[1;32m     15\u001b[0m \u001b[39m\"\"\"Module for tfq.core.ops.*\"\"\"\u001b[39;00m\n\u001b[1;32m     17\u001b[0m \u001b[39m# Import getters for constructing ops.\u001b[39;00m\n\u001b[0;32m---> 18\u001b[0m \u001b[39mfrom\u001b[39;00m \u001b[39mtensorflow_quantum\u001b[39;00m\u001b[39m.\u001b[39;00m\u001b[39mcore\u001b[39;00m\u001b[39m.\u001b[39;00m\u001b[39mops\u001b[39;00m\u001b[39m.\u001b[39;00m\u001b[39mcircuit_execution_ops\u001b[39;00m \u001b[39mimport\u001b[39;00m (\n\u001b[1;32m     19\u001b[0m     get_expectation_op, get_sampled_expectation_op, get_sampling_op,\n\u001b[1;32m     20\u001b[0m     get_state_op)\n\u001b[1;32m     22\u001b[0m \u001b[39mfrom\u001b[39;00m \u001b[39mtensorflow_quantum\u001b[39;00m\u001b[39m.\u001b[39;00m\u001b[39mcore\u001b[39;00m\u001b[39m.\u001b[39;00m\u001b[39mops\u001b[39;00m\u001b[39m.\u001b[39;00m\u001b[39mtfq_unitary_op\u001b[39;00m \u001b[39mimport\u001b[39;00m get_unitary_op\n\u001b[1;32m     23\u001b[0m \u001b[39mfrom\u001b[39;00m \u001b[39mtensorflow_quantum\u001b[39;00m\u001b[39m.\u001b[39;00m\u001b[39mcore\u001b[39;00m\u001b[39m.\u001b[39;00m\u001b[39mops\u001b[39;00m\u001b[39m.\u001b[39;00m\u001b[39mtfq_utility_ops\u001b[39;00m \u001b[39mimport\u001b[39;00m (append_circuit,\n\u001b[1;32m     24\u001b[0m                                                          padded_to_ragged,\n\u001b[1;32m     25\u001b[0m                                                          padded_to_ragged2d,\n\u001b[1;32m     26\u001b[0m                                                          resolve_parameters)\n",
            "File \u001b[0;32m~/.pyenv/versions/3.8.19/lib/python3.8/site-packages/tensorflow_quantum/core/ops/circuit_execution_ops.py:20\u001b[0m\n\u001b[1;32m     16\u001b[0m \u001b[39mimport\u001b[39;00m \u001b[39menum\u001b[39;00m\n\u001b[1;32m     18\u001b[0m \u001b[39mimport\u001b[39;00m \u001b[39mcirq\u001b[39;00m\n\u001b[0;32m---> 20\u001b[0m \u001b[39mfrom\u001b[39;00m \u001b[39mtensorflow_quantum\u001b[39;00m\u001b[39m.\u001b[39;00m\u001b[39mcore\u001b[39;00m\u001b[39m.\u001b[39;00m\u001b[39mops\u001b[39;00m \u001b[39mimport\u001b[39;00m (cirq_ops, tfq_simulate_ops,\n\u001b[1;32m     21\u001b[0m                                          tfq_utility_ops)\n\u001b[1;32m     22\u001b[0m \u001b[39mfrom\u001b[39;00m \u001b[39mtensorflow_quantum\u001b[39;00m\u001b[39m.\u001b[39;00m\u001b[39mpython\u001b[39;00m \u001b[39mimport\u001b[39;00m quantum_context\n\u001b[1;32m     25\u001b[0m \u001b[39mclass\u001b[39;00m \u001b[39mTFQStateVectorSimulator\u001b[39;00m(enum\u001b[39m.\u001b[39mEnum):\n",
            "File \u001b[0;32m~/.pyenv/versions/3.8.19/lib/python3.8/site-packages/tensorflow_quantum/core/ops/tfq_simulate_ops.py:19\u001b[0m\n\u001b[1;32m     16\u001b[0m \u001b[39mimport\u001b[39;00m \u001b[39mtensorflow\u001b[39;00m \u001b[39mas\u001b[39;00m \u001b[39mtf\u001b[39;00m\n\u001b[1;32m     17\u001b[0m \u001b[39mfrom\u001b[39;00m \u001b[39mtensorflow_quantum\u001b[39;00m\u001b[39m.\u001b[39;00m\u001b[39mcore\u001b[39;00m\u001b[39m.\u001b[39;00m\u001b[39mops\u001b[39;00m\u001b[39m.\u001b[39;00m\u001b[39mload_module\u001b[39;00m \u001b[39mimport\u001b[39;00m load_module\n\u001b[0;32m---> 19\u001b[0m SIM_OP_MODULE \u001b[39m=\u001b[39m load_module(\u001b[39m\"\u001b[39;49m\u001b[39m_tfq_simulate_ops.so\u001b[39;49m\u001b[39m\"\u001b[39;49m)\n\u001b[1;32m     22\u001b[0m \u001b[39mdef\u001b[39;00m \u001b[39mtfq_simulate_expectation\u001b[39m(programs, symbol_names, symbol_values, pauli_sums):\n\u001b[1;32m     23\u001b[0m \u001b[39m    \u001b[39m\u001b[39m\"\"\"Calculate the expectation value of circuits wrt some operator(s)\u001b[39;00m\n\u001b[1;32m     24\u001b[0m \n\u001b[1;32m     25\u001b[0m \u001b[39m    Args:\u001b[39;00m\n\u001b[0;32m   (...)\u001b[0m\n\u001b[1;32m     42\u001b[0m \u001b[39m            (after resolving the corresponding parameters in).\u001b[39;00m\n\u001b[1;32m     43\u001b[0m \u001b[39m    \"\"\"\u001b[39;00m\n",
            "File \u001b[0;32m~/.pyenv/versions/3.8.19/lib/python3.8/site-packages/tensorflow_quantum/core/ops/load_module.py:46\u001b[0m, in \u001b[0;36mload_module\u001b[0;34m(name)\u001b[0m\n\u001b[1;32m     43\u001b[0m \u001b[39mexcept\u001b[39;00m:\n\u001b[1;32m     44\u001b[0m     path \u001b[39m=\u001b[39m os\u001b[39m.\u001b[39mpath\u001b[39m.\u001b[39mjoin(get_python_lib(), \u001b[39m\"\u001b[39m\u001b[39mtensorflow_quantum/core/ops\u001b[39m\u001b[39m\"\u001b[39m,\n\u001b[1;32m     45\u001b[0m                         name)\n\u001b[0;32m---> 46\u001b[0m     \u001b[39mreturn\u001b[39;00m load_library\u001b[39m.\u001b[39;49mload_op_library(path)\n",
            "File \u001b[0;32m~/.pyenv/versions/3.8.19/lib/python3.8/site-packages/tensorflow/python/framework/load_library.py:58\u001b[0m, in \u001b[0;36mload_op_library\u001b[0;34m(library_filename)\u001b[0m\n\u001b[1;32m     35\u001b[0m \u001b[39m@tf_export\u001b[39m(\u001b[39m'\u001b[39m\u001b[39mload_op_library\u001b[39m\u001b[39m'\u001b[39m)\n\u001b[1;32m     36\u001b[0m \u001b[39mdef\u001b[39;00m \u001b[39mload_op_library\u001b[39m(library_filename):\n\u001b[1;32m     37\u001b[0m \u001b[39m  \u001b[39m\u001b[39m\"\"\"Loads a TensorFlow plugin, containing custom ops and kernels.\u001b[39;00m\n\u001b[1;32m     38\u001b[0m \n\u001b[1;32m     39\u001b[0m \u001b[39m  Pass \"library_filename\" to a platform-specific mechanism for dynamically\u001b[39;00m\n\u001b[0;32m   (...)\u001b[0m\n\u001b[1;32m     56\u001b[0m \u001b[39m    RuntimeError: when unable to load the library or get the python wrappers.\u001b[39;00m\n\u001b[1;32m     57\u001b[0m \u001b[39m  \"\"\"\u001b[39;00m\n\u001b[0;32m---> 58\u001b[0m   lib_handle \u001b[39m=\u001b[39m py_tf\u001b[39m.\u001b[39;49mTF_LoadLibrary(library_filename)\n\u001b[1;32m     59\u001b[0m   \u001b[39mtry\u001b[39;00m:\n\u001b[1;32m     60\u001b[0m     wrappers \u001b[39m=\u001b[39m _pywrap_python_op_gen\u001b[39m.\u001b[39mGetPythonWrappers(\n\u001b[1;32m     61\u001b[0m         py_tf\u001b[39m.\u001b[39mTF_GetOpList(lib_handle))\n",
            "\u001b[0;31mNotFoundError\u001b[0m: /home/alireza/.pyenv/versions/3.8.19/lib/python3.8/site-packages/tensorflow_quantum/core/ops/_tfq_simulate_ops.so: undefined symbol: _ZNK10tensorflow8OpKernel11TraceStringERKNS_15OpKernelContextEb"
          ]
        }
      ],
      "source": [
        "import tensorflow as tf\n",
        "import tensorflow_quantum as tfq\n",
        "\n",
        "import cirq\n",
        "import sympy\n",
        "import numpy as np\n",
        "import seaborn as sns\n",
        "import collections\n",
        "\n",
        "# visualization tools\n",
        "%matplotlib inline\n",
        "import matplotlib.pyplot as plt\n",
        "from cirq.contrib.svg import SVGCircuit"
      ]
    },
    {
      "cell_type": "markdown",
      "metadata": {
        "colab_type": "text",
        "id": "b08Mmbs8lr81"
      },
      "source": [
        "## 1. Load the data\n",
        "\n",
        "In this tutorial you will build a binary classifier to distinguish between the digits 3 and 6, following <a href=\"https://arxiv.org/pdf/1802.06002.pdf\" class=\"external\">Farhi et al.</a> This section covers the data handling that:\n",
        "\n",
        "- Loads the raw data from Keras.\n",
        "- Filters the dataset to only 3s and 6s.\n",
        "- Downscales the images so they fit can fit in a quantum computer.\n",
        "- Removes any contradictory examples.\n",
        "- Converts the binary images to Cirq circuits.\n",
        "- Converts the Cirq circuits to TensorFlow Quantum circuits. "
      ]
    },
    {
      "cell_type": "markdown",
      "metadata": {
        "colab_type": "text",
        "id": "pDUdGxn-ojgy"
      },
      "source": [
        "### 1.1 Load the raw data"
      ]
    },
    {
      "cell_type": "markdown",
      "metadata": {
        "colab_type": "text",
        "id": "xZyGXlaKojgz"
      },
      "source": [
        "Load the MNIST dataset distributed with Keras. "
      ]
    },
    {
      "cell_type": "code",
      "execution_count": 6,
      "metadata": {
        "colab": {},
        "colab_type": "code",
        "id": "d9OSExvCojg0"
      },
      "outputs": [
        {
          "name": "stdout",
          "output_type": "stream",
          "text": [
            "Downloading data from https://storage.googleapis.com/tensorflow/tf-keras-datasets/mnist.npz\n",
            "11493376/11490434 [==============================] - 42s 4us/step\n"
          ]
        },
        {
          "ename": "NameError",
          "evalue": "name 'np' is not defined",
          "output_type": "error",
          "traceback": [
            "\u001b[0;31m---------------------------------------------------------------------------\u001b[0m",
            "\u001b[0;31mNameError\u001b[0m                                 Traceback (most recent call last)",
            "\u001b[1;32m/mnt/L/work/Learning/university/qnn-mnist/mnist.ipynb Cell 19\u001b[0m line \u001b[0;36m4\n\u001b[1;32m      <a href='vscode-notebook-cell:/mnt/L/work/Learning/university/qnn-mnist/mnist.ipynb#X24sZmlsZQ%3D%3D?line=0'>1</a>\u001b[0m (x_train, y_train), (x_test, y_test) \u001b[39m=\u001b[39m tf\u001b[39m.\u001b[39mkeras\u001b[39m.\u001b[39mdatasets\u001b[39m.\u001b[39mmnist\u001b[39m.\u001b[39mload_data()\n\u001b[1;32m      <a href='vscode-notebook-cell:/mnt/L/work/Learning/university/qnn-mnist/mnist.ipynb#X24sZmlsZQ%3D%3D?line=2'>3</a>\u001b[0m \u001b[39m# Rescale the images from [0,255] to the [0.0,1.0] range.\u001b[39;00m\n\u001b[0;32m----> <a href='vscode-notebook-cell:/mnt/L/work/Learning/university/qnn-mnist/mnist.ipynb#X24sZmlsZQ%3D%3D?line=3'>4</a>\u001b[0m x_train, x_test \u001b[39m=\u001b[39m x_train[\u001b[39m.\u001b[39m\u001b[39m.\u001b[39m\u001b[39m.\u001b[39m, np\u001b[39m.\u001b[39mnewaxis]\u001b[39m/\u001b[39m\u001b[39m255.0\u001b[39m, x_test[\u001b[39m.\u001b[39m\u001b[39m.\u001b[39m\u001b[39m.\u001b[39m, np\u001b[39m.\u001b[39mnewaxis]\u001b[39m/\u001b[39m\u001b[39m255.0\u001b[39m\n\u001b[1;32m      <a href='vscode-notebook-cell:/mnt/L/work/Learning/university/qnn-mnist/mnist.ipynb#X24sZmlsZQ%3D%3D?line=5'>6</a>\u001b[0m \u001b[39mprint\u001b[39m(\u001b[39m\"\u001b[39m\u001b[39mNumber of original training examples:\u001b[39m\u001b[39m\"\u001b[39m, \u001b[39mlen\u001b[39m(x_train))\n\u001b[1;32m      <a href='vscode-notebook-cell:/mnt/L/work/Learning/university/qnn-mnist/mnist.ipynb#X24sZmlsZQ%3D%3D?line=6'>7</a>\u001b[0m \u001b[39mprint\u001b[39m(\u001b[39m\"\u001b[39m\u001b[39mNumber of original test examples:\u001b[39m\u001b[39m\"\u001b[39m, \u001b[39mlen\u001b[39m(x_test))\n",
            "\u001b[0;31mNameError\u001b[0m: name 'np' is not defined"
          ]
        }
      ],
      "source": [
        "(x_train, y_train), (x_test, y_test) = tf.keras.datasets.mnist.load_data()\n",
        "\n",
        "# Rescale the images from [0,255] to the [0.0,1.0] range.\n",
        "x_train, x_test = x_train[..., np.newaxis]/255.0, x_test[..., np.newaxis]/255.0\n",
        "\n",
        "print(\"Number of original training examples:\", len(x_train))\n",
        "print(\"Number of original test examples:\", len(x_test))"
      ]
    },
    {
      "cell_type": "markdown",
      "metadata": {
        "colab_type": "text",
        "id": "fZpbygdGojg3"
      },
      "source": [
        "Filter the dataset to keep just the 3s and 6s,  remove the other classes. At the same time convert the label, `y`, to boolean: `True` for `3` and `False` for 6. "
      ]
    },
    {
      "cell_type": "code",
      "execution_count": null,
      "metadata": {
        "colab": {},
        "colab_type": "code",
        "id": "hOw68cCZojg4"
      },
      "outputs": [],
      "source": [
        "def filter_36(x, y):\n",
        "    keep = (y == 3) | (y == 6)\n",
        "    x, y = x[keep], y[keep]\n",
        "    y = y == 3\n",
        "    return x,y"
      ]
    },
    {
      "cell_type": "code",
      "execution_count": null,
      "metadata": {
        "colab": {},
        "colab_type": "code",
        "id": "p-XEU8egGL6q"
      },
      "outputs": [],
      "source": [
        "x_train, y_train = filter_36(x_train, y_train)\n",
        "x_test, y_test = filter_36(x_test, y_test)\n",
        "\n",
        "print(\"Number of filtered training examples:\", len(x_train))\n",
        "print(\"Number of filtered test examples:\", len(x_test))"
      ]
    },
    {
      "cell_type": "markdown",
      "metadata": {
        "colab_type": "text",
        "id": "3wyiaP0Xojg_"
      },
      "source": [
        "Show the first example:"
      ]
    },
    {
      "cell_type": "code",
      "execution_count": null,
      "metadata": {
        "colab": {},
        "colab_type": "code",
        "id": "j5STP7MbojhA"
      },
      "outputs": [],
      "source": [
        "print(y_train[0])\n",
        "\n",
        "plt.imshow(x_train[0, :, :, 0])\n",
        "plt.colorbar()"
      ]
    },
    {
      "cell_type": "markdown",
      "metadata": {
        "colab_type": "text",
        "id": "wNS9sVPQojhC"
      },
      "source": [
        "### 1.2 Downscale the images"
      ]
    },
    {
      "cell_type": "markdown",
      "metadata": {
        "colab_type": "text",
        "id": "fmmtplIFGL6t"
      },
      "source": [
        "An image size of 28x28 is much too large for current quantum computers. Resize the image down to 4x4:"
      ]
    },
    {
      "cell_type": "code",
      "execution_count": null,
      "metadata": {
        "colab": {},
        "colab_type": "code",
        "id": "lbhUdBFWojhE",
        "scrolled": false
      },
      "outputs": [],
      "source": [
        "x_train_small = tf.image.resize(x_train, (4,4)).numpy()\n",
        "x_test_small = tf.image.resize(x_test, (4,4)).numpy()"
      ]
    },
    {
      "cell_type": "markdown",
      "metadata": {
        "colab_type": "text",
        "id": "pOMd7zIjGL6x"
      },
      "source": [
        "Again, display the first training example—after resize: "
      ]
    },
    {
      "cell_type": "code",
      "execution_count": null,
      "metadata": {
        "colab": {},
        "colab_type": "code",
        "id": "YIYOtCRIGL6y",
        "scrolled": true
      },
      "outputs": [],
      "source": [
        "print(y_train[0])\n",
        "\n",
        "plt.imshow(x_train_small[0,:,:,0], vmin=0, vmax=1)\n",
        "plt.colorbar()"
      ]
    },
    {
      "cell_type": "markdown",
      "metadata": {
        "colab_type": "text",
        "id": "gGeF1_qtojhK"
      },
      "source": [
        "### 1.3 Remove contradictory examples"
      ]
    },
    {
      "cell_type": "markdown",
      "metadata": {
        "colab_type": "text",
        "id": "7ZLkq2yeojhL"
      },
      "source": [
        "From section *3.3 Learning to Distinguish Digits* of <a href=\"https://arxiv.org/pdf/1802.06002.pdf\" class=\"external\">Farhi et al.</a>, filter the dataset to remove images that are labeled as belonging to both classes.\n",
        "\n",
        "This is not a standard machine-learning procedure, but is included in the interest of following the paper."
      ]
    },
    {
      "cell_type": "code",
      "execution_count": null,
      "metadata": {
        "colab": {},
        "colab_type": "code",
        "id": "LqOPW0C7ojhL"
      },
      "outputs": [],
      "source": [
        "def remove_contradicting(xs, ys):\n",
        "    mapping = collections.defaultdict(set)\n",
        "    orig_x = {}\n",
        "    # Determine the set of labels for each unique image:\n",
        "    for x,y in zip(xs,ys):\n",
        "       orig_x[tuple(x.flatten())] = x\n",
        "       mapping[tuple(x.flatten())].add(y)\n",
        "    \n",
        "    new_x = []\n",
        "    new_y = []\n",
        "    for flatten_x in mapping:\n",
        "      x = orig_x[flatten_x]\n",
        "      labels = mapping[flatten_x]\n",
        "      if len(labels) == 1:\n",
        "          new_x.append(x)\n",
        "          new_y.append(next(iter(labels)))\n",
        "      else:\n",
        "          # Throw out images that match more than one label.\n",
        "          pass\n",
        "    \n",
        "    num_uniq_3 = sum(1 for value in mapping.values() if len(value) == 1 and True in value)\n",
        "    num_uniq_6 = sum(1 for value in mapping.values() if len(value) == 1 and False in value)\n",
        "    num_uniq_both = sum(1 for value in mapping.values() if len(value) == 2)\n",
        "\n",
        "    print(\"Number of unique images:\", len(mapping.values()))\n",
        "    print(\"Number of unique 3s: \", num_uniq_3)\n",
        "    print(\"Number of unique 6s: \", num_uniq_6)\n",
        "    print(\"Number of unique contradicting labels (both 3 and 6): \", num_uniq_both)\n",
        "    print()\n",
        "    print(\"Initial number of images: \", len(xs))\n",
        "    print(\"Remaining non-contradicting unique images: \", len(new_x))\n",
        "    \n",
        "    return np.array(new_x), np.array(new_y)"
      ]
    },
    {
      "cell_type": "markdown",
      "metadata": {
        "colab_type": "text",
        "id": "VMOiJfz_ojhP"
      },
      "source": [
        "The resulting counts do not closely match the reported values, but the exact procedure is not specified.\n",
        "\n",
        "It is also worth noting here that applying filtering contradictory examples at this point does not totally prevent the model from receiving contradictory training examples: the next step binarizes the data which will cause more collisions. "
      ]
    },
    {
      "cell_type": "code",
      "execution_count": null,
      "metadata": {
        "colab": {},
        "colab_type": "code",
        "id": "zpnsAssWojhP",
        "scrolled": true
      },
      "outputs": [],
      "source": [
        "x_train_nocon, y_train_nocon = remove_contradicting(x_train_small, y_train)"
      ]
    },
    {
      "cell_type": "markdown",
      "metadata": {
        "colab_type": "text",
        "id": "SlJ5NVaPojhT"
      },
      "source": [
        "### 1.4 Encode the data as quantum circuits\n",
        "\n",
        "To process images using a quantum computer, <a href=\"https://arxiv.org/pdf/1802.06002.pdf\" class=\"external\">Farhi et al.</a> proposed representing each pixel with a qubit, with the state depending on the value of the pixel. The first step is to convert to a binary encoding."
      ]
    },
    {
      "cell_type": "code",
      "execution_count": null,
      "metadata": {
        "colab": {},
        "colab_type": "code",
        "id": "1z8J7OyDojhV"
      },
      "outputs": [],
      "source": [
        "THRESHOLD = 0.5\n",
        "\n",
        "x_train_bin = np.array(x_train_nocon > THRESHOLD, dtype=np.float32)\n",
        "x_test_bin = np.array(x_test_small > THRESHOLD, dtype=np.float32)"
      ]
    },
    {
      "cell_type": "markdown",
      "metadata": {
        "colab_type": "text",
        "id": "SlJ5NVaPojhU"
      },
      "source": [
        "If you were to remove contradictory images at this point you would be left with only 193, likely not enough for effective training."
      ]
    },
    {
      "cell_type": "code",
      "execution_count": null,
      "metadata": {
        "colab": {},
        "colab_type": "code",
        "id": "1z8J7OyDojhW"
      },
      "outputs": [],
      "source": [
        "_ = remove_contradicting(x_train_bin, y_train_nocon)"
      ]
    },
    {
      "cell_type": "markdown",
      "metadata": {
        "colab_type": "text",
        "id": "oLyxS9KlojhZ"
      },
      "source": [
        "The qubits at pixel indices with values that exceed a threshold, are rotated through an $X$ gate."
      ]
    },
    {
      "cell_type": "code",
      "execution_count": null,
      "metadata": {
        "colab": {},
        "colab_type": "code",
        "id": "aOu_3-3ZGL61"
      },
      "outputs": [],
      "source": [
        "def convert_to_circuit(image):\n",
        "    \"\"\"Encode truncated classical image into quantum datapoint.\"\"\"\n",
        "    values = np.ndarray.flatten(image)\n",
        "    qubits = cirq.GridQubit.rect(4, 4)\n",
        "    circuit = cirq.Circuit()\n",
        "    for i, value in enumerate(values):\n",
        "        if value:\n",
        "            circuit.append(cirq.X(qubits[i]))\n",
        "    return circuit\n",
        "\n",
        "\n",
        "x_train_circ = [convert_to_circuit(x) for x in x_train_bin]\n",
        "x_test_circ = [convert_to_circuit(x) for x in x_test_bin]"
      ]
    },
    {
      "cell_type": "markdown",
      "metadata": {
        "colab_type": "text",
        "id": "zSCXqzOzojhd"
      },
      "source": [
        "Here is the circuit created for the first example (circuit diagrams do not show qubits with zero gates):"
      ]
    },
    {
      "cell_type": "code",
      "execution_count": null,
      "metadata": {
        "colab": {},
        "colab_type": "code",
        "id": "w3POmUEUojhe",
        "scrolled": false
      },
      "outputs": [],
      "source": [
        "SVGCircuit(x_train_circ[0])"
      ]
    },
    {
      "cell_type": "markdown",
      "metadata": {
        "colab_type": "text",
        "id": "AEQMxCcBojhg"
      },
      "source": [
        "Compare this circuit to the indices where the image value exceeds the threshold:"
      ]
    },
    {
      "cell_type": "code",
      "execution_count": null,
      "metadata": {
        "colab": {},
        "colab_type": "code",
        "id": "TBIsiXdtojhh"
      },
      "outputs": [],
      "source": [
        "bin_img = x_train_bin[0,:,:,0]\n",
        "indices = np.array(np.where(bin_img)).T\n",
        "indices"
      ]
    },
    {
      "cell_type": "markdown",
      "metadata": {
        "colab_type": "text",
        "id": "mWZ24w1Oojhk"
      },
      "source": [
        "Convert these `Cirq` circuits to tensors for `tfq`:"
      ]
    },
    {
      "cell_type": "code",
      "execution_count": null,
      "metadata": {
        "colab": {},
        "colab_type": "code",
        "id": "IZStEMk4ojhk"
      },
      "outputs": [],
      "source": [
        "x_train_tfcirc = tfq.convert_to_tensor(x_train_circ)\n",
        "x_test_tfcirc = tfq.convert_to_tensor(x_test_circ)"
      ]
    },
    {
      "cell_type": "markdown",
      "metadata": {
        "colab_type": "text",
        "id": "4USiqeOqGL67"
      },
      "source": [
        "## 2. Quantum neural network\n",
        "\n",
        "There is little guidance for a quantum circuit structure that classifies images. Since the classification is based on the expectation of the readout qubit, <a href=\"https://arxiv.org/pdf/1802.06002.pdf\" class=\"external\">Farhi et al.</a> propose using two qubit gates, with the readout qubit always acted upon. This is similar in some ways to running small a <a href=\"https://arxiv.org/abs/1511.06464\" class=\"external\">Unitary RNN</a> across the pixels."
      ]
    },
    {
      "cell_type": "markdown",
      "metadata": {
        "colab_type": "text",
        "id": "knIzawEeojho"
      },
      "source": [
        "### 2.1 Build the model circuit\n",
        "\n",
        "This following example shows this layered approach. Each layer uses *n* instances of the same gate, with each of the data qubits acting on the readout qubit.\n",
        "\n",
        "Start with a simple class that will add a layer of these gates to a circuit:"
      ]
    },
    {
      "cell_type": "code",
      "execution_count": null,
      "metadata": {
        "colab": {},
        "colab_type": "code",
        "id": "-hjxxgU5ojho"
      },
      "outputs": [],
      "source": [
        "class CircuitLayerBuilder():\n",
        "    def __init__(self, data_qubits, readout):\n",
        "        self.data_qubits = data_qubits\n",
        "        self.readout = readout\n",
        "    \n",
        "    def add_layer(self, circuit, gate, prefix):\n",
        "        for i, qubit in enumerate(self.data_qubits):\n",
        "            symbol = sympy.Symbol(prefix + '-' + str(i))\n",
        "            circuit.append(gate(qubit, self.readout)**symbol)"
      ]
    },
    {
      "cell_type": "markdown",
      "metadata": {
        "colab_type": "text",
        "id": "Sjo5hANFojhr"
      },
      "source": [
        "Build an example circuit layer to see how it looks:"
      ]
    },
    {
      "cell_type": "code",
      "execution_count": null,
      "metadata": {
        "colab": {},
        "colab_type": "code",
        "id": "SzXWOpUGojhs"
      },
      "outputs": [],
      "source": [
        "demo_builder = CircuitLayerBuilder(data_qubits = cirq.GridQubit.rect(4,1),\n",
        "                                   readout=cirq.GridQubit(-1,-1))\n",
        "\n",
        "circuit = cirq.Circuit()\n",
        "demo_builder.add_layer(circuit, gate = cirq.XX, prefix='xx')\n",
        "SVGCircuit(circuit)"
      ]
    },
    {
      "cell_type": "markdown",
      "metadata": {
        "colab_type": "text",
        "id": "T-QhPE1pojhu"
      },
      "source": [
        "Now build a two-layered model, matching the data-circuit size, and include the preparation and readout operations."
      ]
    },
    {
      "cell_type": "code",
      "execution_count": null,
      "metadata": {
        "colab": {},
        "colab_type": "code",
        "id": "JiALbpwRGL69"
      },
      "outputs": [],
      "source": [
        "def create_quantum_model():\n",
        "    \"\"\"Create a QNN model circuit and readout operation to go along with it.\"\"\"\n",
        "    data_qubits = cirq.GridQubit.rect(4, 4)  # a 4x4 grid.\n",
        "    readout = cirq.GridQubit(-1, -1)         # a single qubit at [-1,-1]\n",
        "    circuit = cirq.Circuit()\n",
        "    \n",
        "    # Prepare the readout qubit.\n",
        "    circuit.append(cirq.X(readout))\n",
        "    circuit.append(cirq.H(readout))\n",
        "    \n",
        "    builder = CircuitLayerBuilder(\n",
        "        data_qubits = data_qubits,\n",
        "        readout=readout)\n",
        "\n",
        "    # Then add layers (experiment by adding more).\n",
        "    builder.add_layer(circuit, cirq.XX, \"xx1\")\n",
        "    builder.add_layer(circuit, cirq.ZZ, \"zz1\")\n",
        "\n",
        "    # Finally, prepare the readout qubit.\n",
        "    circuit.append(cirq.H(readout))\n",
        "\n",
        "    return circuit, cirq.Z(readout)"
      ]
    },
    {
      "cell_type": "code",
      "execution_count": null,
      "metadata": {
        "colab": {},
        "colab_type": "code",
        "id": "2QZvVh7vojhx"
      },
      "outputs": [],
      "source": [
        "model_circuit, model_readout = create_quantum_model()"
      ]
    },
    {
      "cell_type": "markdown",
      "metadata": {
        "colab_type": "text",
        "id": "LY7vbY6yfABE"
      },
      "source": [
        "### 2.2 Wrap the model-circuit in a tfq-keras model\n",
        "\n",
        "Build the Keras model with the quantum components. This model is fed the \"quantum data\", from `x_train_circ`, that encodes the classical data. It uses a *Parametrized Quantum Circuit* layer, `tfq.layers.PQC`, to train the model circuit, on the quantum data.\n",
        "\n",
        "To classify these images, <a href=\"https://arxiv.org/pdf/1802.06002.pdf\" class=\"external\">Farhi et al.</a> proposed taking the expectation of a readout qubit in a parameterized circuit. The expectation returns a value between 1 and -1."
      ]
    },
    {
      "cell_type": "code",
      "execution_count": null,
      "metadata": {
        "colab": {},
        "colab_type": "code",
        "id": "ZYdf_KOxojh0"
      },
      "outputs": [],
      "source": [
        "# Build the Keras model.\n",
        "model = tf.keras.Sequential([\n",
        "    # The input is the data-circuit, encoded as a tf.string\n",
        "    tf.keras.layers.Input(shape=(), dtype=tf.string),\n",
        "    # The PQC layer returns the expected value of the readout gate, range [-1,1].\n",
        "    tfq.layers.PQC(model_circuit, model_readout),\n",
        "])"
      ]
    },
    {
      "cell_type": "markdown",
      "metadata": {
        "colab_type": "text",
        "id": "jz-FbVc9ojh3"
      },
      "source": [
        "Next, describe the training procedure to the model, using the `compile` method.\n",
        "\n",
        "Since the the expected readout is in the range `[-1,1]`, optimizing the hinge loss is a somewhat natural fit. \n",
        "\n",
        "Note: Another valid approach would be to shift the output range to `[0,1]`, and treat it as the probability the model assigns to class `3`. This could be used with a standard a `tf.losses.BinaryCrossentropy` loss.\n",
        "\n",
        "To use the hinge loss here you need to make two small adjustments. First convert the labels, `y_train_nocon`, from boolean to `[-1,1]`, as expected by the hinge loss."
      ]
    },
    {
      "cell_type": "code",
      "execution_count": null,
      "metadata": {
        "colab": {},
        "colab_type": "code",
        "id": "CgMNkC1Fojh5"
      },
      "outputs": [],
      "source": [
        "y_train_hinge = 2.0*y_train_nocon-1.0\n",
        "y_test_hinge = 2.0*y_test-1.0"
      ]
    },
    {
      "cell_type": "markdown",
      "metadata": {
        "colab_type": "text",
        "id": "5nwnveDiojh7"
      },
      "source": [
        "Second, use a custiom `hinge_accuracy` metric that correctly handles `[-1, 1]` as the `y_true` labels argument. \n",
        "`tf.losses.BinaryAccuracy(threshold=0.0)` expects `y_true` to be a boolean, and so can't be used with hinge loss)."
      ]
    },
    {
      "cell_type": "code",
      "execution_count": null,
      "metadata": {
        "colab": {},
        "colab_type": "code",
        "id": "3XKtZ_TEojh8"
      },
      "outputs": [],
      "source": [
        "def hinge_accuracy(y_true, y_pred):\n",
        "    y_true = tf.squeeze(y_true) > 0.0\n",
        "    y_pred = tf.squeeze(y_pred) > 0.0\n",
        "    result = tf.cast(y_true == y_pred, tf.float32)\n",
        "\n",
        "    return tf.reduce_mean(result)"
      ]
    },
    {
      "cell_type": "code",
      "execution_count": null,
      "metadata": {
        "colab": {},
        "colab_type": "code",
        "id": "FlpETlLRojiA"
      },
      "outputs": [],
      "source": [
        "model.compile(\n",
        "    loss=tf.keras.losses.Hinge(),\n",
        "    optimizer=tf.keras.optimizers.Adam(),\n",
        "    metrics=[hinge_accuracy])"
      ]
    },
    {
      "cell_type": "code",
      "execution_count": null,
      "metadata": {
        "colab": {},
        "colab_type": "code",
        "id": "jkHq2RstojiC"
      },
      "outputs": [],
      "source": [
        "print(model.summary())"
      ]
    },
    {
      "cell_type": "markdown",
      "metadata": {
        "colab_type": "text",
        "id": "lsuOzDYblA9s"
      },
      "source": [
        "### Train the quantum model\n",
        "\n",
        "Now train the model—this takes about 45 min. If you don't want to wait that long, use a small subset of the data (set `NUM_EXAMPLES=500`, below). This doesn't really affect the model's progress during training (it only has 32 parameters, and doesn't need much data to constrain these). Using fewer examples just ends training earlier (5min), but runs long enough to show that it is making progress in the validation logs."
      ]
    },
    {
      "cell_type": "code",
      "execution_count": null,
      "metadata": {
        "colab": {},
        "colab_type": "code",
        "id": "n8vuQpSLlBV2"
      },
      "outputs": [],
      "source": [
        "EPOCHS = 3\n",
        "BATCH_SIZE = 32\n",
        "\n",
        "NUM_EXAMPLES = len(x_train_tfcirc)"
      ]
    },
    {
      "cell_type": "code",
      "execution_count": null,
      "metadata": {
        "colab": {},
        "colab_type": "code",
        "id": "qJnNG-3JojiI"
      },
      "outputs": [],
      "source": [
        "x_train_tfcirc_sub = x_train_tfcirc[:NUM_EXAMPLES]\n",
        "y_train_hinge_sub = y_train_hinge[:NUM_EXAMPLES]"
      ]
    },
    {
      "cell_type": "markdown",
      "metadata": {
        "colab_type": "text",
        "id": "QMSdgGC1GL7D"
      },
      "source": [
        "Training this model to convergence should achieve >85% accuracy on the test set."
      ]
    },
    {
      "cell_type": "code",
      "execution_count": null,
      "metadata": {
        "colab": {},
        "colab_type": "code",
        "id": "Ya9qP3KkojiM"
      },
      "outputs": [],
      "source": [
        "qnn_history = model.fit(\n",
        "      x_train_tfcirc_sub, y_train_hinge_sub,\n",
        "      batch_size=32,\n",
        "      epochs=EPOCHS,\n",
        "      verbose=1,\n",
        "      validation_data=(x_test_tfcirc, y_test_hinge))\n",
        "\n",
        "qnn_results = model.evaluate(x_test_tfcirc, y_test)"
      ]
    },
    {
      "cell_type": "markdown",
      "metadata": {
        "colab_type": "text",
        "id": "3ER7B7aaojiP"
      },
      "source": [
        "Note: The training accuracy reports the average over the epoch. The validation accuracy is evaluated at the end of each epoch."
      ]
    },
    {
      "cell_type": "markdown",
      "metadata": {
        "colab_type": "text",
        "id": "8952YvuWGL7J"
      },
      "source": [
        "## 3. Classical neural network\n",
        "\n",
        "While the quantum neural network works for this simplified MNIST problem, a basic classical neural network can easily outperform a QNN on this task. After a single epoch, a classical neural network can achieve >98% accuracy on the holdout set.\n",
        "\n",
        "In the following example, a classical neural network is used for for the 3-6 classification problem using the entire 28x28 image instead of subsampling the image. This easily converges to nearly 100% accuracy of the test set."
      ]
    },
    {
      "cell_type": "code",
      "execution_count": null,
      "metadata": {
        "colab": {},
        "colab_type": "code",
        "id": "pZofEHhLGL7L"
      },
      "outputs": [],
      "source": [
        "def create_classical_model():\n",
        "    # A simple model based off LeNet from https://keras.io/examples/mnist_cnn/\n",
        "    model = tf.keras.Sequential()\n",
        "    model.add(tf.keras.layers.Conv2D(32, [3, 3], activation='relu', input_shape=(28,28,1)))\n",
        "    model.add(tf.keras.layers.Conv2D(64, [3, 3], activation='relu'))\n",
        "    model.add(tf.keras.layers.MaxPooling2D(pool_size=(2, 2)))\n",
        "    model.add(tf.keras.layers.Dropout(0.25))\n",
        "    model.add(tf.keras.layers.Flatten())\n",
        "    model.add(tf.keras.layers.Dense(128, activation='relu'))\n",
        "    model.add(tf.keras.layers.Dropout(0.5))\n",
        "    model.add(tf.keras.layers.Dense(1))\n",
        "    return model\n",
        "\n",
        "\n",
        "model = create_classical_model()\n",
        "model.compile(loss=tf.keras.losses.BinaryCrossentropy(from_logits=True),\n",
        "              optimizer=tf.keras.optimizers.Adam(),\n",
        "              metrics=['accuracy'])\n",
        "\n",
        "model.summary()"
      ]
    },
    {
      "cell_type": "code",
      "execution_count": null,
      "metadata": {
        "colab": {},
        "colab_type": "code",
        "id": "CiAJl7sZojiU"
      },
      "outputs": [],
      "source": [
        "model.fit(x_train,\n",
        "          y_train,\n",
        "          batch_size=128,\n",
        "          epochs=1,\n",
        "          verbose=1,\n",
        "          validation_data=(x_test, y_test))\n",
        "\n",
        "cnn_results = model.evaluate(x_test, y_test)"
      ]
    },
    {
      "cell_type": "markdown",
      "metadata": {
        "colab_type": "text",
        "id": "X5-5BVJaojiZ"
      },
      "source": [
        "The above model has nearly 1.2M parameters. For a more fair comparison, try a 37-parameter model, on the subsampled images:"
      ]
    },
    {
      "cell_type": "code",
      "execution_count": null,
      "metadata": {
        "colab": {},
        "colab_type": "code",
        "id": "70TOM6r-ojiZ",
        "scrolled": false
      },
      "outputs": [],
      "source": [
        "def create_fair_classical_model():\n",
        "    # A simple model based off LeNet from https://keras.io/examples/mnist_cnn/\n",
        "    model = tf.keras.Sequential()\n",
        "    model.add(tf.keras.layers.Flatten(input_shape=(4,4,1)))\n",
        "    model.add(tf.keras.layers.Dense(2, activation='relu'))\n",
        "    model.add(tf.keras.layers.Dense(1))\n",
        "    return model\n",
        "\n",
        "\n",
        "model = create_fair_classical_model()\n",
        "model.compile(loss=tf.keras.losses.BinaryCrossentropy(from_logits=True),\n",
        "              optimizer=tf.keras.optimizers.Adam(),\n",
        "              metrics=['accuracy'])\n",
        "\n",
        "model.summary()"
      ]
    },
    {
      "cell_type": "code",
      "execution_count": null,
      "metadata": {
        "colab": {},
        "colab_type": "code",
        "id": "lA_Fx-8gojid"
      },
      "outputs": [],
      "source": [
        "model.fit(x_train_bin,\n",
        "          y_train_nocon,\n",
        "          batch_size=128,\n",
        "          epochs=20,\n",
        "          verbose=2,\n",
        "          validation_data=(x_test_bin, y_test))\n",
        "\n",
        "fair_nn_results = model.evaluate(x_test_bin, y_test)"
      ]
    },
    {
      "cell_type": "markdown",
      "metadata": {
        "colab_type": "text",
        "id": "RH3mam7EGL7N"
      },
      "source": [
        "## 4. Comparison\n",
        "\n",
        "Higher resolution input and a more powerful model make this problem easy for the CNN. While a classical model of similar power (~32 parameters) trains to a similar accuracy in a fraction of the time. One way or the other, the classical neural network easily outperforms the quantum neural network. For classical data, it is difficult to beat a classical neural network."
      ]
    },
    {
      "cell_type": "code",
      "execution_count": null,
      "metadata": {
        "colab": {},
        "colab_type": "code",
        "id": "NOMeN7pMGL7P"
      },
      "outputs": [],
      "source": [
        "qnn_accuracy = qnn_results[1]\n",
        "cnn_accuracy = cnn_results[1]\n",
        "fair_nn_accuracy = fair_nn_results[1]\n",
        "\n",
        "sns.barplot(x=[\"Quantum\", \"Classical, full\", \"Classical, fair\"],\n",
        "            y=[qnn_accuracy, cnn_accuracy, fair_nn_accuracy])"
      ]
    }
  ],
  "metadata": {
    "colab": {
      "collapsed_sections": [],
      "name": "mnist.ipynb",
      "private_outputs": true,
      "provenance": [],
      "toc_visible": true
    },
    "kernelspec": {
      "display_name": "Python 3",
      "language": "python",
      "name": "python3"
    },
    "language_info": {
      "codemirror_mode": {
        "name": "ipython",
        "version": 3
      },
      "file_extension": ".py",
      "mimetype": "text/x-python",
      "name": "python",
      "nbconvert_exporter": "python",
      "pygments_lexer": "ipython3",
      "version": "3.8.19"
    },
    "vscode": {
      "interpreter": {
        "hash": "916dbcbb3f70747c44a77c7bcd40155683ae19c65e1c03b4aa3499c5328201f1"
      }
    }
  },
  "nbformat": 4,
  "nbformat_minor": 0
}
